{
 "cells": [
  {
   "cell_type": "code",
   "execution_count": null,
   "metadata": {},
   "outputs": [],
   "source": [
    "import ctypes as ct\n",
    "import numpy as np\n",
    "\n",
    "import dask\n",
    "import dask.array as da\n",
    "\n",
    "import matplotlib.pyplot as plt\n",
    "import matplotlib.image as mpimg\n",
    "\n",
    "from time import sleep\n",
    "\n",
    "#prépare l'affichage de donnée de la bibliothèque matplotlib\n",
    "%matplotlib inline  \n",
    "\n",
    "#importation de la librairie partagée\n",
    "from libc import sobel"
   ]
  },
  {
   "cell_type": "code",
   "execution_count": null,
   "metadata": {},
   "outputs": [],
   "source": [
    "from dask.distributed import Client, progress\n",
    "client = Client()\n",
    "client"
   ]
  },
  {
   "cell_type": "code",
   "execution_count": null,
   "metadata": {},
   "outputs": [],
   "source": [
    "client.restart()"
   ]
  },
  {
   "cell_type": "code",
   "execution_count": null,
   "metadata": {},
   "outputs": [],
   "source": [
    "def rgb2gray(rgb):\n",
    "    return np.dot(rgb[...,:3], [0.299, 0.587, 0.144])"
   ]
  },
  {
   "cell_type": "code",
   "execution_count": null,
   "metadata": {},
   "outputs": [],
   "source": [
    "img = mpimg.imread('image/city.jpg')\n",
    "\n",
    "robot = rgb2gray(img)\n",
    "\n",
    "robot = robot.astype(np.uint8)\n",
    "\n",
    "plt.imshow(robot, cmap = 'gray')"
   ]
  },
  {
   "cell_type": "code",
   "execution_count": null,
   "metadata": {},
   "outputs": [],
   "source": [
    "def image():\n",
    "    img = mpimg.imread('image/city.jpg')\n",
    "    image = rgb2gray(img)\n",
    "    image = image.astype(np.uint8)\n",
    "    return image\n",
    "\n",
    "\n",
    "def split(nbSlice, height, pos, input_array):\n",
    "    if pos == 1 :\n",
    "        res = input_array[:(height/nbSlice)+1, :]\n",
    "    elif pos == nbSlice :\n",
    "        res = input_array[((height/nbSlice)*(nbSlice-1))-1:, :] \n",
    "    else :\n",
    "        res = input_array[((height/nbSlice)*(pos-1))-1:((height/nbSlice)*(pos))+1, :]\n",
    "    return res\n",
    "\n",
    "def resize(nbSlice, height, pos, input_array):\n",
    "    if pos == 1 :\n",
    "        res = input_array[:(height/nbSlice), :]\n",
    "    elif pos == nbSlice :\n",
    "        res = input_array[1:, :] \n",
    "    else :\n",
    "        res = input_array[1:(height/nbSlice)+1, :]\n",
    "    return res"
   ]
  },
  {
   "cell_type": "code",
   "execution_count": null,
   "metadata": {},
   "outputs": [],
   "source": [
    "def sobel2(width, height, input_array):\n",
    "    _lib = ct.CDLL(\"/home/amonot/Bureau/stageAlex/sobel/sobel.so\")\n",
    "    _lib.sobel.argtypes = [ct.c_int, ct.c_int, array_matrice, array_matrice] \n",
    "    output_array = np.zeros((height,width), dtype=np.ubyte)\n",
    "    _lib.sobel(width, height, input_array, output_array)\n",
    "    sleep(3)\n",
    "    return output_array "
   ]
  },
  {
   "cell_type": "code",
   "execution_count": null,
   "metadata": {},
   "outputs": [],
   "source": [
    "#split\n",
    "robot = dask.delayed(robot)\n",
    "\n",
    "totalNbSlice = 8\n",
    "height = 5198\n",
    "width = 15276\n",
    "#1024\n",
    "#1280\n",
    "\n",
    "#robot000 = split(totalNbSlice, height, 1, robot)\n",
    "#robot001 = split(totalNbSlice, height, 2, robot)\n",
    "#robot010 = split(totalNbSlice, height, 3, robot)\n",
    "#robot011 = split(totalNbSlice, height, 4, robot)\n",
    "#robot100 = split(totalNbSlice, height, 5, robot)\n",
    "#robot101 = split(totalNbSlice, height, 6, robot)\n",
    "#robot110 = split(totalNbSlice, height, 7, robot)\n",
    "#robot111 = split(totalNbSlice, height, 8, robot)\n",
    "\n",
    "robot000 = dask.delayed(split)(totalNbSlice, height, 1, robot)\n",
    "robot001 = dask.delayed(split)(totalNbSlice, height, 2, robot)\n",
    "robot010 = dask.delayed(split)(totalNbSlice, height, 3, robot)\n",
    "robot011 = dask.delayed(split)(totalNbSlice, height, 4, robot)\n",
    "robot100 = dask.delayed(split)(totalNbSlice, height, 5, robot)\n",
    "robot101 = dask.delayed(split)(totalNbSlice, height, 6, robot)\n",
    "robot110 = dask.delayed(split)(totalNbSlice, height, 7, robot)\n",
    "robot111 = dask.delayed(split)(totalNbSlice, height, 8, robot)\n"
   ]
  },
  {
   "cell_type": "code",
   "execution_count": null,
   "metadata": {},
   "outputs": [],
   "source": [
    "result_sobel000 = dask.delayed(sobel)(width, (height/totalNbSlice)+1, robot000)\n",
    "result_sobel001 = dask.delayed(sobel)(width, (height/totalNbSlice)+2, robot001)\n",
    "result_sobel010 = dask.delayed(sobel)(width, (height/totalNbSlice)+2, robot010)\n",
    "result_sobel011 = dask.delayed(sobel)(width, (height/totalNbSlice)+2, robot011)\n",
    "result_sobel100 = dask.delayed(sobel)(width, (height/totalNbSlice)+2, robot100)\n",
    "result_sobel101 = dask.delayed(sobel)(width, (height/totalNbSlice)+2, robot101)\n",
    "result_sobel110 = dask.delayed(sobel)(width, (height/totalNbSlice)+2, robot110)\n",
    "result_sobel111 = dask.delayed(sobel)(width, (height/totalNbSlice)+1, robot111)"
   ]
  },
  {
   "cell_type": "code",
   "execution_count": null,
   "metadata": {},
   "outputs": [],
   "source": [
    "result_Dask_slice0 = dask.delayed(resize)(totalNbSlice, height, 1, result_sobel000)\n",
    "result_Dask_slice1 = dask.delayed(resize)(totalNbSlice, height, 2, result_sobel001)\n",
    "result_Dask_slice2 = dask.delayed(resize)(totalNbSlice, height, 3, result_sobel010)\n",
    "result_Dask_slice3 = dask.delayed(resize)(totalNbSlice, height, 4, result_sobel011)\n",
    "result_Dask_slice4 = dask.delayed(resize)(totalNbSlice, height, 5, result_sobel100)\n",
    "result_Dask_slice5 = dask.delayed(resize)(totalNbSlice, height, 6, result_sobel101)\n",
    "result_Dask_slice6 = dask.delayed(resize)(totalNbSlice, height, 7, result_sobel110)\n",
    "result_Dask_slice7 = dask.delayed(resize)(totalNbSlice, height, 8, result_sobel111)"
   ]
  },
  {
   "cell_type": "code",
   "execution_count": null,
   "metadata": {},
   "outputs": [],
   "source": [
    "# result = np.zeros((1024,1280), dtype=np.ubyte)\n"
   ]
  },
  {
   "cell_type": "code",
   "execution_count": null,
   "metadata": {},
   "outputs": [],
   "source": [
    "data = [[result_Dask_slice0],\n",
    "        [result_Dask_slice1],\n",
    "        [result_Dask_slice2], \n",
    "        [result_Dask_slice3],\n",
    "        [result_Dask_slice4],\n",
    "        [result_Dask_slice5],\n",
    "        [result_Dask_slice6],\n",
    "        [result_Dask_slice7]]\n",
    "result_Dask_slices = dask.delayed(da.block)(data)"
   ]
  },
  {
   "cell_type": "code",
   "execution_count": null,
   "metadata": {},
   "outputs": [],
   "source": [
    "result_Dask_slices.visualize(rankdir='LR')"
   ]
  },
  {
   "cell_type": "code",
   "execution_count": null,
   "metadata": {},
   "outputs": [],
   "source": [
    "graph = result_Dask_slices.__dask_graph__()"
   ]
  },
  {
   "cell_type": "code",
   "execution_count": null,
   "metadata": {},
   "outputs": [],
   "source": [
    "graph.layers"
   ]
  },
  {
   "cell_type": "code",
   "execution_count": null,
   "metadata": {},
   "outputs": [],
   "source": [
    "df"
   ]
  },
  {
   "cell_type": "code",
   "execution_count": null,
   "metadata": {},
   "outputs": [],
   "source": [
    "from dask.multiprocessing import get\n",
    "get(graph,'block-e0d4be71-3b0a-47ce-a80b-e010e96171fb')"
   ]
  },
  {
   "cell_type": "code",
   "execution_count": null,
   "metadata": {},
   "outputs": [],
   "source": [
    "file1 = open(\"graph.txt\",\"w\") \n",
    "file1.write(repr(graph.layers))\n",
    "file1.close() "
   ]
  },
  {
   "cell_type": "code",
   "execution_count": null,
   "metadata": {
    "scrolled": false
   },
   "outputs": [],
   "source": [
    "%time array = result_Dask_slices.compute()\n",
    "#%time array = result_Dask_slices.compute(scheduler='processes')\n",
    "#%time array = result_Dask_slices.compute(scheduler='single-threaded')\n"
   ]
  },
  {
   "cell_type": "code",
   "execution_count": null,
   "metadata": {},
   "outputs": [],
   "source": [
    "plt.imshow(array)\n",
    "plt.imsave(\"test.jpg\",array)"
   ]
  },
  {
   "cell_type": "code",
   "execution_count": null,
   "metadata": {},
   "outputs": [],
   "source": [
    "array.shape"
   ]
  },
  {
   "cell_type": "code",
   "execution_count": null,
   "metadata": {},
   "outputs": [],
   "source": [
    "%time dask.compute(result_sobel000,result_sobel001,result_sobel010,result_sobel011,result_sobel100,result_sobel101,result_sobel110,result_sobel111)"
   ]
  },
  {
   "cell_type": "code",
   "execution_count": null,
   "metadata": {},
   "outputs": [],
   "source": [
    "result_sobel = dask.delayed(sobel)(width, height, robot)"
   ]
  },
  {
   "cell_type": "code",
   "execution_count": null,
   "metadata": {},
   "outputs": [],
   "source": [
    "%time result_sobel.compute()"
   ]
  },
  {
   "cell_type": "code",
   "execution_count": null,
   "metadata": {},
   "outputs": [],
   "source": [
    "df = {'block-e0d4be71-3b0a-47ce-a80b-e010e96171fb': {'block-e0d4be71-3b0a-47ce-a80b-e010e96171fb': (da.block,\n",
    "   [['resize-0b218975-d9b3-4284-a969-8b1bc1c036c0'],\n",
    "    ['resize-4687cdf1-30fe-4bb5-a157-f9bb2a79738a'],\n",
    "    ['resize-318da62d-7385-4403-ab50-93ab18af6fd0'],\n",
    "    ['resize-2b74be16-6eeb-4de2-a324-ed785d9a0164'],\n",
    "    ['resize-2ffa8727-0d4a-4b17-96ab-d6e54df5cfd6'],\n",
    "    ['resize-54582654-9759-4814-a342-033e5ad56b03'],\n",
    "    ['resize-09620525-25c1-4736-bb60-1e3c2906fc35'],\n",
    "    ['resize-bdd64a9a-b933-4147-bf00-00e8ccb944c6']])},\n",
    " 'ndarray-dbae0d5c-d15a-4b21-ac8c-973bbbc4236b': robot,\n",
    " 'resize-09620525-25c1-4736-bb60-1e3c2906fc35': {'resize-09620525-25c1-4736-bb60-1e3c2906fc35': (resize,\n",
    "   8,\n",
    "   5198,\n",
    "   7,\n",
    "   'sobel-51ecd711-c265-45d2-8476-e1bbbe78a7cd')},\n",
    " 'resize-0b218975-d9b3-4284-a969-8b1bc1c036c0': {'resize-0b218975-d9b3-4284-a969-8b1bc1c036c0': (resize,\n",
    "   8,\n",
    "   5198,\n",
    "   1,\n",
    "   'sobel-cffc7532-a990-41ee-acfa-6e72814f2806')},\n",
    " 'resize-2b74be16-6eeb-4de2-a324-ed785d9a0164': {'resize-2b74be16-6eeb-4de2-a324-ed785d9a0164': (resize,\n",
    "   8,\n",
    "   5198,\n",
    "   4,\n",
    "   'sobel-c317f072-5351-453e-a288-513dbfc43eaf')},\n",
    " 'resize-2ffa8727-0d4a-4b17-96ab-d6e54df5cfd6': {'resize-2ffa8727-0d4a-4b17-96ab-d6e54df5cfd6': (resize,\n",
    "   8,\n",
    "   5198,\n",
    "   5,\n",
    "   'sobel-779739b5-864b-4967-a2c5-a6ef49239b25')},\n",
    " 'resize-318da62d-7385-4403-ab50-93ab18af6fd0': {'resize-318da62d-7385-4403-ab50-93ab18af6fd0': (resize,\n",
    "   8,\n",
    "   5198,\n",
    "   3,\n",
    "   'sobel-01f98889-20fd-4832-b0d0-6546414c34fd')},\n",
    " 'resize-4687cdf1-30fe-4bb5-a157-f9bb2a79738a': {'resize-4687cdf1-30fe-4bb5-a157-f9bb2a79738a': (resize,\n",
    "   8,\n",
    "   5198,\n",
    "   2,\n",
    "   'sobel-88fae7d1-690a-4361-bf16-ccdcafb3d235')},\n",
    " 'resize-54582654-9759-4814-a342-033e5ad56b03': {'resize-54582654-9759-4814-a342-033e5ad56b03': (resize,\n",
    "   8,\n",
    "   5198,\n",
    "   6,\n",
    "   'sobel-eb0b3123-f617-453e-8539-0e2c17ab66ed')},\n",
    " 'resize-bdd64a9a-b933-4147-bf00-00e8ccb944c6': {'resize-bdd64a9a-b933-4147-bf00-00e8ccb944c6': (resize,\n",
    "   8,\n",
    "   5198,\n",
    "   8,\n",
    "   'sobel-c544fd6c-98bf-4972-a6f7-49d42c4c5d46')},\n",
    " 'sobel-01f98889-20fd-4832-b0d0-6546414c34fd': {'sobel-01f98889-20fd-4832-b0d0-6546414c34fd': (sobel,\n",
    "   15276,\n",
    "   651,\n",
    "   'split-e50503a7-41cc-41d0-8917-440352994f61')},\n",
    " 'sobel-51ecd711-c265-45d2-8476-e1bbbe78a7cd': {'sobel-51ecd711-c265-45d2-8476-e1bbbe78a7cd': (sobel,\n",
    "   15276,\n",
    "   651,\n",
    "   'split-43f8e92c-da35-4dff-9931-0f99b66eac2c')},\n",
    " 'sobel-779739b5-864b-4967-a2c5-a6ef49239b25': {'sobel-779739b5-864b-4967-a2c5-a6ef49239b25': (sobel,\n",
    "   15276,\n",
    "   651,\n",
    "   'split-1bef90e8-97a4-4ae6-a3f3-6e73b00aa64b')},\n",
    " 'sobel-88fae7d1-690a-4361-bf16-ccdcafb3d235': {'sobel-88fae7d1-690a-4361-bf16-ccdcafb3d235': (sobel,\n",
    "   15276,\n",
    "   651,\n",
    "   'split-505ca263-33a0-444c-ab64-3a4192aa6ee6')},\n",
    " 'sobel-c317f072-5351-453e-a288-513dbfc43eaf': {'sobel-c317f072-5351-453e-a288-513dbfc43eaf': (sobel,\n",
    "   15276,\n",
    "   651,\n",
    "   'split-2957425c-8e7c-4b40-9fde-c1c4851a5e86')},\n",
    " 'sobel-c544fd6c-98bf-4972-a6f7-49d42c4c5d46': {'sobel-c544fd6c-98bf-4972-a6f7-49d42c4c5d46': (sobel,\n",
    "   15276,\n",
    "   650,\n",
    "   'split-a74c1e32-9d6b-4e47-843b-09b17e4709d0')},\n",
    " 'sobel-cffc7532-a990-41ee-acfa-6e72814f2806': {'sobel-cffc7532-a990-41ee-acfa-6e72814f2806': (sobel,\n",
    "   15276,\n",
    "   650,\n",
    "   'split-c8de7136-4da7-4e4e-8fd6-34b03a3a5523')},\n",
    " 'sobel-eb0b3123-f617-453e-8539-0e2c17ab66ed': {'sobel-eb0b3123-f617-453e-8539-0e2c17ab66ed': (sobel,\n",
    "   15276,\n",
    "   651,\n",
    "   'split-e8ad0953-b9d6-4c6a-9dbf-35e67110389a')},\n",
    " 'split-1bef90e8-97a4-4ae6-a3f3-6e73b00aa64b': {'split-1bef90e8-97a4-4ae6-a3f3-6e73b00aa64b': (split,\n",
    "   8,\n",
    "   5198,\n",
    "   5,\n",
    "   'ndarray-dbae0d5c-d15a-4b21-ac8c-973bbbc4236b')},\n",
    " 'split-2957425c-8e7c-4b40-9fde-c1c4851a5e86': {'split-2957425c-8e7c-4b40-9fde-c1c4851a5e86': (split,\n",
    "   8,\n",
    "   5198,\n",
    "   4,\n",
    "   'ndarray-dbae0d5c-d15a-4b21-ac8c-973bbbc4236b')},\n",
    " 'split-43f8e92c-da35-4dff-9931-0f99b66eac2c': {'split-43f8e92c-da35-4dff-9931-0f99b66eac2c': (split,\n",
    "   8,\n",
    "   5198,\n",
    "   7,\n",
    "   'ndarray-dbae0d5c-d15a-4b21-ac8c-973bbbc4236b')},\n",
    " 'split-505ca263-33a0-444c-ab64-3a4192aa6ee6': {'split-505ca263-33a0-444c-ab64-3a4192aa6ee6': (split,\n",
    "   8,\n",
    "   5198,\n",
    "   2,\n",
    "   'ndarray-dbae0d5c-d15a-4b21-ac8c-973bbbc4236b')},\n",
    " 'split-a74c1e32-9d6b-4e47-843b-09b17e4709d0': {'split-a74c1e32-9d6b-4e47-843b-09b17e4709d0': (split,\n",
    "   8,\n",
    "   5198,\n",
    "   8,\n",
    "   'ndarray-dbae0d5c-d15a-4b21-ac8c-973bbbc4236b')},\n",
    " 'split-c8de7136-4da7-4e4e-8fd6-34b03a3a5523': {'split-c8de7136-4da7-4e4e-8fd6-34b03a3a5523': (split,\n",
    "   8,\n",
    "   5198,\n",
    "   1,\n",
    "   'ndarray-dbae0d5c-d15a-4b21-ac8c-973bbbc4236b')},\n",
    " 'split-e50503a7-41cc-41d0-8917-440352994f61': {'split-e50503a7-41cc-41d0-8917-440352994f61': (split,\n",
    "   8,\n",
    "   5198,\n",
    "   3,\n",
    "   'ndarray-dbae0d5c-d15a-4b21-ac8c-973bbbc4236b')},\n",
    " 'split-e8ad0953-b9d6-4c6a-9dbf-35e67110389a': {'split-e8ad0953-b9d6-4c6a-9dbf-35e67110389a': (split,\n",
    "   8,\n",
    "   5198,\n",
    "   6,\n",
    "   'ndarray-dbae0d5c-d15a-4b21-ac8c-973bbbc4236b')}}"
   ]
  },
  {
   "cell_type": "code",
   "execution_count": null,
   "metadata": {},
   "outputs": [],
   "source": [
    "from dask.highlevelgraph import HighLevelGraph\n",
    "\n",
    "g = HighLevelGraph(df, graph.dependencies)"
   ]
  },
  {
   "cell_type": "code",
   "execution_count": null,
   "metadata": {},
   "outputs": [],
   "source": [
    "from dask.multiprocessing import get\n",
    "result = get(g, 'block-e0d4be71-3b0a-47ce-a80b-e010e96171fb')"
   ]
  },
  {
   "cell_type": "code",
   "execution_count": null,
   "metadata": {},
   "outputs": [],
   "source": [
    "df = {  'block':(da.block,\n",
    "   [[('rezize',1)],\n",
    "    [('rezize',2)],\n",
    "    [('rezize',3)],\n",
    "    [('rezize',4)],\n",
    "    [('rezize',5)],\n",
    "    [('rezize',6)],\n",
    "    [('rezize',7)],\n",
    "    [('rezize',8)]]),\n",
    "        ('rezize',1):(resize, 8, 5198, 1, ('sobel',1)),\n",
    "        ('rezize',2):(resize, 8, 5198, 2, ('sobel',2)),\n",
    "        ('rezize',3):(resize, 8, 5198, 3, ('sobel',3)),\n",
    "        ('rezize',4):(resize, 8, 5198, 4, ('sobel',4)),\n",
    "        ('rezize',5):(resize, 8, 5198, 5, ('sobel',5)),\n",
    "        ('rezize',6):(resize, 8, 5198, 6, ('sobel',6)),\n",
    "        ('rezize',7):(resize, 8, 5198, 7, ('sobel',7)),\n",
    "        ('rezize',8):(resize, 8, 5198, 8, ('sobel',8)),\n",
    "        ('sobel',1):(sobel, 15276, 651, ('split',1)),\n",
    "        ('sobel',2):(sobel, 15276, 651, ('split',2)),\n",
    "        ('sobel',3):(sobel, 15276, 651, ('split',3)),\n",
    "        ('sobel',4):(sobel, 15276, 651, ('split',4)),\n",
    "        ('sobel',5):(sobel, 15276, 651, ('split',5)),\n",
    "        ('sobel',6):(sobel, 15276, 651, ('split',6)),\n",
    "        ('sobel',7):(sobel, 15276, 651, ('split',7)),\n",
    "        ('sobel',8):(sobel, 15276, 651, ('split',8)),\n",
    "        ('split',1):(split, 8, 5198, 1, 'array'),\n",
    "        ('split',2):(split, 8, 5198, 2, 'array'),\n",
    "        ('split',3):(split, 8, 5198, 3, 'array'),\n",
    "        ('split',4):(split, 8, 5198, 4, 'array'),\n",
    "        ('split',5):(split, 8, 5198, 5, 'array'),\n",
    "        ('split',6):(split, 8, 5198, 6, 'array'),\n",
    "        ('split',7):(split, 8, 5198, 7, 'array'),\n",
    "        ('split',8):(split, 8, 5198, 8, 'array'),\n",
    "        'array':(image,)\n",
    "}\n",
    "\n",
    "dependencies = {'array': set(),\n",
    "                'split': {'array'},\n",
    "                'sobel': {'split'},\n",
    "                'rezize': {'sobel'},\n",
    "                'block': {'rezize'}}"
   ]
  },
  {
   "cell_type": "code",
   "execution_count": null,
   "metadata": {},
   "outputs": [],
   "source": [
    "from dask.highlevelgraph import HighLevelGraph\n",
    "graph = HighLevelGraph(df, dependencies)"
   ]
  },
  {
   "cell_type": "code",
   "execution_count": null,
   "metadata": {},
   "outputs": [],
   "source": [
    "#import dask.distributed as d\n",
    "#d.Client.get\n",
    "result = client.get(df, 'block')\n",
    "plt.imshow(result)"
   ]
  },
  {
   "cell_type": "code",
   "execution_count": null,
   "metadata": {},
   "outputs": [],
   "source": [
    "result"
   ]
  },
  {
   "cell_type": "code",
   "execution_count": null,
   "metadata": {},
   "outputs": [],
   "source": []
  }
 ],
 "metadata": {
  "kernelspec": {
   "display_name": "Python 2",
   "language": "python",
   "name": "python2"
  },
  "language_info": {
   "codemirror_mode": {
    "name": "ipython",
    "version": 2
   },
   "file_extension": ".py",
   "mimetype": "text/x-python",
   "name": "python",
   "nbconvert_exporter": "python",
   "pygments_lexer": "ipython2",
   "version": "2.7.16"
  }
 },
 "nbformat": 4,
 "nbformat_minor": 2
}
